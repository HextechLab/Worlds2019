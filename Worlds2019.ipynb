{
 "cells": [
  {
   "cell_type": "markdown",
   "metadata": {},
   "source": [
    "This post will be a simple introduction to the lolesports API and how to make your own stats about matches from Worlds 2019."
   ]
  },
  {
   "cell_type": "markdown",
   "metadata": {},
   "source": [
    "You can find the notebook with all the code and the dataset on Github : https://github.com/HextechLab/Worlds2019"
   ]
  },
  {
   "cell_type": "markdown",
   "metadata": {},
   "source": [
    "## Gather data"
   ]
  },
  {
   "cell_type": "markdown",
   "metadata": {},
   "source": [
    "The first need you need to make stats is data. And in the case of League of Legends esports, the data is not that easily accessible. There are some endpoints used by the lolesports website that are exactly what we want but are not publicly documented, but after some analysis about how the website work, we can understand what are these usefull endpoints."
   ]
  },
  {
   "cell_type": "code",
   "execution_count": 1,
   "metadata": {},
   "outputs": [],
   "source": [
    "import requests, json\n",
    "\n",
    "url_tournament = \"http://api.lolesports.com/api/v1/scheduleItems?leagueId=9\"\n",
    "r  = requests.get(url_tournament)\n",
    "raw_tournament_data = json.loads(r.text)"
   ]
  },
  {
   "cell_type": "code",
   "execution_count": 2,
   "metadata": {},
   "outputs": [
    {
     "data": {
      "text/plain": [
       "dict_keys(['scheduleItems', 'highlanderTournaments', 'teams', 'highlanderRecords', 'players'])"
      ]
     },
     "execution_count": 2,
     "metadata": {},
     "output_type": "execute_result"
    }
   ],
   "source": [
    "raw_tournament_data.keys()"
   ]
  },
  {
   "cell_type": "markdown",
   "metadata": {},
   "source": [
    "here we are interested in the \"highlanderTournaments\" field, it contains informations and all Worlds tournament since 2015. We will focus on the 2019 one : "
   ]
  },
  {
   "cell_type": "code",
   "execution_count": 3,
   "metadata": {},
   "outputs": [
    {
     "data": {
      "text/plain": [
       "dict_keys(['id', 'title', 'description', 'leagueReference', 'roles', 'queues', 'rosters', 'published', 'breakpoints', 'brackets', 'liveMatches', 'startDate', 'endDate', 'leagueId', 'platformIds', 'gameIds', 'league'])"
      ]
     },
     "execution_count": 3,
     "metadata": {},
     "output_type": "execute_result"
    }
   ],
   "source": [
    "worlds_2019 = raw_tournament_data[\"highlanderTournaments\"][4]\n",
    "worlds_2019.keys()"
   ]
  },
  {
   "cell_type": "markdown",
   "metadata": {},
   "source": [
    "We will save the tournament ID for later."
   ]
  },
  {
   "cell_type": "code",
   "execution_count": 4,
   "metadata": {},
   "outputs": [],
   "source": [
    "tournament_id = worlds_2019[\"id\"]"
   ]
  },
  {
   "cell_type": "markdown",
   "metadata": {},
   "source": [
    "The bracket field contains most of the information about the structure of the tournament and matches being played in it. Unlike the Riot Games API, matches and games are two differents entities, as matches are what we call B.O. (BO3, BO5...) and are composed by one or more games. We will gather the gameId of each game, the realm (aka server) and the group name for filtering purpose."
   ]
  },
  {
   "cell_type": "code",
   "execution_count": 5,
   "metadata": {},
   "outputs": [],
   "source": [
    "brackets = worlds_2019[\"brackets\"]\n",
    "\n",
    "matches = []\n",
    "games = {}\n",
    "\n",
    "for bracket_id in brackets:\n",
    "    bracket = brackets[bracket_id]\n",
    "    \n",
    "    for match_id in bracket[\"matches\"]:\n",
    "        match = bracket[\"matches\"][match_id]\n",
    "        \n",
    "        for game_uuid in match['games']:\n",
    "            \n",
    "            game = match['games'][game_uuid]\n",
    "            \n",
    "            if 'gameId' in game:\n",
    "                matches.append(match_id)\n",
    "                games[game_uuid] = {\"matchHistoryId\":game['gameId'], \"realm\":game[\"gameRealm\"], \"groupName\":bracket[\"groupName\"]}"
   ]
  },
  {
   "cell_type": "code",
   "execution_count": 6,
   "metadata": {},
   "outputs": [
    {
     "data": {
      "text/plain": [
       "{'matchHistoryId': '1070986',\n",
       " 'realm': 'ESPORTSTMNT06',\n",
       " 'groupName': 'play_in_elim'}"
      ]
     },
     "execution_count": 6,
     "metadata": {},
     "output_type": "execute_result"
    }
   ],
   "source": [
    "games[next(iter(games.keys()))]"
   ]
  },
  {
   "cell_type": "markdown",
   "metadata": {},
   "source": [
    "## Get the hashes"
   ]
  },
  {
   "cell_type": "markdown",
   "metadata": {},
   "source": [
    "Esports matches are available on the official match history website."
   ]
  },
  {
   "cell_type": "code",
   "execution_count": 7,
   "metadata": {},
   "outputs": [
    {
     "data": {
      "text/plain": [
       "'https://matchhistory.na.leagueoflegends.com/en/#match-details/ESPORTSTMNT06/1070986'"
      ]
     },
     "execution_count": 7,
     "metadata": {},
     "output_type": "execute_result"
    }
   ],
   "source": [
    "base_match_history_url = \"https://matchhistory.na.leagueoflegends.com/en/#match-details/{}/{}\"\n",
    "base_match_history_url.format(games[next(iter(games.keys()))][\"realm\"],games[next(iter(games.keys()))][\"matchHistoryId\"])"
   ]
  },
  {
   "cell_type": "markdown",
   "metadata": {},
   "source": [
    "However, this link won't work in this state as we miss a hash. Fortunately, we can find this hash in another endpoint."
   ]
  },
  {
   "cell_type": "code",
   "execution_count": 8,
   "metadata": {},
   "outputs": [],
   "source": [
    "match_id = next(iter(games.keys()))\n",
    "base_match_url = \"http://api.lolesports.com/api/v2/highlanderMatchDetails?tournamentId={}&matchId={}\"\n",
    "r  = requests.get(base_match_url.format(tournament_id,matches[0]))\n",
    "match_data = json.loads(r.text)"
   ]
  },
  {
   "cell_type": "code",
   "execution_count": 9,
   "metadata": {},
   "outputs": [
    {
     "data": {
      "text/plain": [
       "dict_keys(['teams', 'players', 'scheduleItems', 'gameIdMappings', 'videos', 'htmlBlocks'])"
      ]
     },
     "execution_count": 9,
     "metadata": {},
     "output_type": "execute_result"
    }
   ],
   "source": [
    "match_data.keys()"
   ]
  },
  {
   "cell_type": "markdown",
   "metadata": {},
   "source": [
    "We can get advanced informations about players, team and even videos links of the games. But most importantly for use, we can find the hashes needed."
   ]
  },
  {
   "cell_type": "code",
   "execution_count": 10,
   "metadata": {},
   "outputs": [
    {
     "name": "stdout",
     "output_type": "stream",
     "text": [
      "{'id': '7a7a436a-43cb-4dc3-b9fe-11d58bcb5c64', 'gameHash': '9e3f5534655e9c51'}\n",
      "{'id': 'a00bb3da-8bb1-4adf-a600-1173ac82b80c', 'gameHash': '1230c6f4af180085'}\n",
      "{'id': '7bb7c407-878d-4876-baad-1c16542f4983', 'gameHash': '1787d1ea36a382c3'}\n",
      "{'id': '98e43133-f89d-4087-a3c6-4ab012d8cba5', 'gameHash': '997c81ff2a1f4f9d'}\n"
     ]
    }
   ],
   "source": [
    "for i in match_data[\"gameIdMappings\"]:\n",
    "    print(i)"
   ]
  },
  {
   "cell_type": "markdown",
   "metadata": {},
   "source": [
    "Call all the matches to get all hashes."
   ]
  },
  {
   "cell_type": "code",
   "execution_count": 11,
   "metadata": {},
   "outputs": [],
   "source": [
    "for match_id in matches:\n",
    "    r  = requests.get(base_match_url.format(tournament_id,match_id))\n",
    "    match_data = json.loads(r.text)\n",
    "    for i in match_data[\"gameIdMappings\"]:\n",
    "        games[i[\"id\"]][\"hash\"] = i[\"gameHash\"]"
   ]
  },
  {
   "cell_type": "markdown",
   "metadata": {},
   "source": [
    "With this hash, we are able to make the match history work."
   ]
  },
  {
   "cell_type": "code",
   "execution_count": 12,
   "metadata": {},
   "outputs": [
    {
     "data": {
      "text/plain": [
       "'https://matchhistory.na.leagueoflegends.com/en/#match-details/ESPORTSTMNT06/1070986?gameHash=1787d1ea36a382c3'"
      ]
     },
     "execution_count": 12,
     "metadata": {},
     "output_type": "execute_result"
    }
   ],
   "source": [
    "base_match_history_url = \"https://matchhistory.na.leagueoflegends.com/en/#match-details/{}/{}?gameHash={}\"\n",
    "base_match_history_url.format(games[next(iter(games.keys()))][\"realm\"],games[next(iter(games.keys()))][\"matchHistoryId\"],games[next(iter(games.keys()))][\"hash\"])"
   ]
  },
  {
   "cell_type": "markdown",
   "metadata": {},
   "source": [
    "## Get the data"
   ]
  },
  {
   "cell_type": "markdown",
   "metadata": {},
   "source": [
    "Now we have all informations needed to gather games data. We will use the ACS, which is the service Riot uses for the match history. URL are of this form : "
   ]
  },
  {
   "cell_type": "code",
   "execution_count": 13,
   "metadata": {},
   "outputs": [
    {
     "data": {
      "text/plain": [
       "'https://acs.leagueoflegends.com/v1/stats/game/ESPORTSTMNT06/1070986?gameHash=1787d1ea36a382c3'"
      ]
     },
     "execution_count": 13,
     "metadata": {},
     "output_type": "execute_result"
    }
   ],
   "source": [
    "base_match_history_stats_url = \"https://acs.leagueoflegends.com/v1/stats/game/{}/{}?gameHash={}\"\n",
    "base_match_history_stats_url.format(games[next(iter(games.keys()))][\"realm\"],games[next(iter(games.keys()))][\"matchHistoryId\"],games[next(iter(games.keys()))][\"hash\"])"
   ]
  },
  {
   "cell_type": "markdown",
   "metadata": {},
   "source": [
    "ACS shouldn't be sued like that and is only tolerated to use for lolesports games as they are not available through the Riot Games API. My best advice here is to call the games one by one to be sure not to reach any rate limit."
   ]
  },
  {
   "cell_type": "code",
   "execution_count": 14,
   "metadata": {},
   "outputs": [],
   "source": [
    "all_games_data = {}\n",
    "\n",
    "for k, v in games.items():\n",
    "    url = base_match_history_stats_url.format(v[\"realm\"],v[\"matchHistoryId\"],v[\"hash\"])\n",
    "    all_games_data[k] = requests.get(url).json()"
   ]
  },
  {
   "cell_type": "code",
   "execution_count": 15,
   "metadata": {},
   "outputs": [
    {
     "data": {
      "text/plain": [
       "93"
      ]
     },
     "execution_count": 15,
     "metadata": {},
     "output_type": "execute_result"
    }
   ],
   "source": [
    "len(all_games_data)"
   ]
  },
  {
   "cell_type": "markdown",
   "metadata": {},
   "source": [
    "## Analysis"
   ]
  },
  {
   "cell_type": "markdown",
   "metadata": {},
   "source": [
    "At this point we have the raw data from all matches of the Worlds 2019. In this example, we will focus on simple stats like banrate, pickrate and winrate."
   ]
  },
  {
   "cell_type": "markdown",
   "metadata": {},
   "source": [
    "### Prepare the dataset"
   ]
  },
  {
   "cell_type": "markdown",
   "metadata": {},
   "source": [
    "Lets define some functions to pick some specific information"
   ]
  },
  {
   "cell_type": "code",
   "execution_count": 16,
   "metadata": {},
   "outputs": [],
   "source": [
    "def get_team_bans(game_data):\n",
    "    team_bans = {100:[],200:[]}\n",
    "    for t in game_data[\"teams\"]:\n",
    "        for b in t[\"bans\"]:\n",
    "            team_bans[t[\"teamId\"]].append(b[\"championId\"])\n",
    "    return team_bans\n",
    "\n",
    "def get_team_picks(game_data):\n",
    "    team_picks = {100:[],200:[]}\n",
    "    for p in game_data[\"participants\"]:\n",
    "        team_picks[p[\"teamId\"]].append(p[\"championId\"])\n",
    "    return team_picks\n",
    "    \n",
    "def get_team_tag(game_data):\n",
    "    team_tag = {}\n",
    "    for p in game_data[\"participantIdentities\"]:\n",
    "        team_tag[100 if p[\"participantId\"] <= 5 else 200] = p[\"player\"][\"summonerName\"].split(\" \")[0]\n",
    "    return team_tag\n",
    "    \n",
    "role_order = {\n",
    "    0:\"top\",\n",
    "    1:\"jungle\",\n",
    "    2:\"mid\",\n",
    "    3:\"bot\",\n",
    "    4:\"supp\"\n",
    "}"
   ]
  },
  {
   "cell_type": "markdown",
   "metadata": {},
   "source": [
    "Using the previously defined functions, create a list where each element is one pick or ban"
   ]
  },
  {
   "cell_type": "code",
   "execution_count": 17,
   "metadata": {},
   "outputs": [],
   "source": [
    "from static_data import ddragon\n",
    "dd = ddragon.ddragon()\n",
    "\n",
    "pick_ban_data = []\n",
    "\n",
    "for i in all_games_data:\n",
    "    team_bans = get_team_bans(all_games_data[i])\n",
    "    team_picks = get_team_picks(all_games_data[i])\n",
    "    team_tag = get_team_tag(all_games_data[i])\n",
    "    \n",
    "    group = games[i][\"groupName\"]\n",
    "    for team in [100,200]:\n",
    "        side = \"Blue\" if team == 100 else \"Red\"\n",
    "        tag = team_tag[team]\n",
    "        win = all_games_data[i][\"teams\"][0 if team == 100 else 1][\"win\"] == \"Win\"\n",
    "        \n",
    "        type_ = \"ban\"\n",
    "        for ban in team_bans[team]:\n",
    "            \n",
    "            row = {\n",
    "                \"group\":group,\n",
    "                \"side\":side,\n",
    "                \"tag\":tag,\n",
    "                \"win\":win,\n",
    "                \"type\":type_,\n",
    "                \"championId\":ban,\n",
    "                \"champion\":dd.getChampion(ban).name\n",
    "            }\n",
    "            pick_ban_data.append(row)\n",
    "        \n",
    "        type_ = \"pick\"\n",
    "        for n_role , pick in enumerate(team_picks[team]):\n",
    "            \n",
    "            row = {\n",
    "                \"group\":group,\n",
    "                \"side\":side,\n",
    "                \"tag\":tag,\n",
    "                \"win\":win,\n",
    "                \"type\":type_,\n",
    "                \"championId\":pick,\n",
    "                \"champion\":dd.getChampion(pick).name,\n",
    "                \"role\":role_order[n_role]\n",
    "            }\n",
    "            pick_ban_data.append(row)"
   ]
  },
  {
   "cell_type": "markdown",
   "metadata": {},
   "source": [
    "Manage the list with pandas"
   ]
  },
  {
   "cell_type": "code",
   "execution_count": 18,
   "metadata": {},
   "outputs": [
    {
     "data": {
      "text/html": [
       "<div>\n",
       "<style scoped>\n",
       "    .dataframe tbody tr th:only-of-type {\n",
       "        vertical-align: middle;\n",
       "    }\n",
       "\n",
       "    .dataframe tbody tr th {\n",
       "        vertical-align: top;\n",
       "    }\n",
       "\n",
       "    .dataframe thead th {\n",
       "        text-align: right;\n",
       "    }\n",
       "</style>\n",
       "<table border=\"1\" class=\"dataframe\">\n",
       "  <thead>\n",
       "    <tr style=\"text-align: right;\">\n",
       "      <th></th>\n",
       "      <th>group</th>\n",
       "      <th>side</th>\n",
       "      <th>tag</th>\n",
       "      <th>win</th>\n",
       "      <th>type</th>\n",
       "      <th>championId</th>\n",
       "      <th>champion</th>\n",
       "      <th>role</th>\n",
       "    </tr>\n",
       "  </thead>\n",
       "  <tbody>\n",
       "    <tr>\n",
       "      <td>0</td>\n",
       "      <td>play_in_elim</td>\n",
       "      <td>Blue</td>\n",
       "      <td>HKA</td>\n",
       "      <td>True</td>\n",
       "      <td>ban</td>\n",
       "      <td>79</td>\n",
       "      <td>Gragas</td>\n",
       "      <td>NaN</td>\n",
       "    </tr>\n",
       "    <tr>\n",
       "      <td>1</td>\n",
       "      <td>play_in_elim</td>\n",
       "      <td>Blue</td>\n",
       "      <td>HKA</td>\n",
       "      <td>True</td>\n",
       "      <td>ban</td>\n",
       "      <td>18</td>\n",
       "      <td>Tristana</td>\n",
       "      <td>NaN</td>\n",
       "    </tr>\n",
       "    <tr>\n",
       "      <td>2</td>\n",
       "      <td>play_in_elim</td>\n",
       "      <td>Blue</td>\n",
       "      <td>HKA</td>\n",
       "      <td>True</td>\n",
       "      <td>ban</td>\n",
       "      <td>41</td>\n",
       "      <td>Gangplank</td>\n",
       "      <td>NaN</td>\n",
       "    </tr>\n",
       "    <tr>\n",
       "      <td>3</td>\n",
       "      <td>play_in_elim</td>\n",
       "      <td>Blue</td>\n",
       "      <td>HKA</td>\n",
       "      <td>True</td>\n",
       "      <td>ban</td>\n",
       "      <td>421</td>\n",
       "      <td>Rek'Sai</td>\n",
       "      <td>NaN</td>\n",
       "    </tr>\n",
       "    <tr>\n",
       "      <td>4</td>\n",
       "      <td>play_in_elim</td>\n",
       "      <td>Blue</td>\n",
       "      <td>HKA</td>\n",
       "      <td>True</td>\n",
       "      <td>ban</td>\n",
       "      <td>60</td>\n",
       "      <td>Elise</td>\n",
       "      <td>NaN</td>\n",
       "    </tr>\n",
       "    <tr>\n",
       "      <td>...</td>\n",
       "      <td>...</td>\n",
       "      <td>...</td>\n",
       "      <td>...</td>\n",
       "      <td>...</td>\n",
       "      <td>...</td>\n",
       "      <td>...</td>\n",
       "      <td>...</td>\n",
       "      <td>...</td>\n",
       "    </tr>\n",
       "    <tr>\n",
       "      <td>1854</td>\n",
       "      <td>play_in_groups</td>\n",
       "      <td>Red</td>\n",
       "      <td>MG</td>\n",
       "      <td>False</td>\n",
       "      <td>pick</td>\n",
       "      <td>84</td>\n",
       "      <td>Akali</td>\n",
       "      <td>top</td>\n",
       "    </tr>\n",
       "    <tr>\n",
       "      <td>1855</td>\n",
       "      <td>play_in_groups</td>\n",
       "      <td>Red</td>\n",
       "      <td>MG</td>\n",
       "      <td>False</td>\n",
       "      <td>pick</td>\n",
       "      <td>59</td>\n",
       "      <td>Jarvan IV</td>\n",
       "      <td>jungle</td>\n",
       "    </tr>\n",
       "    <tr>\n",
       "      <td>1856</td>\n",
       "      <td>play_in_groups</td>\n",
       "      <td>Red</td>\n",
       "      <td>MG</td>\n",
       "      <td>False</td>\n",
       "      <td>pick</td>\n",
       "      <td>3</td>\n",
       "      <td>Galio</td>\n",
       "      <td>mid</td>\n",
       "    </tr>\n",
       "    <tr>\n",
       "      <td>1857</td>\n",
       "      <td>play_in_groups</td>\n",
       "      <td>Red</td>\n",
       "      <td>MG</td>\n",
       "      <td>False</td>\n",
       "      <td>pick</td>\n",
       "      <td>498</td>\n",
       "      <td>Xayah</td>\n",
       "      <td>bot</td>\n",
       "    </tr>\n",
       "    <tr>\n",
       "      <td>1858</td>\n",
       "      <td>play_in_groups</td>\n",
       "      <td>Red</td>\n",
       "      <td>MG</td>\n",
       "      <td>False</td>\n",
       "      <td>pick</td>\n",
       "      <td>111</td>\n",
       "      <td>Nautilus</td>\n",
       "      <td>supp</td>\n",
       "    </tr>\n",
       "  </tbody>\n",
       "</table>\n",
       "<p>1859 rows × 8 columns</p>\n",
       "</div>"
      ],
      "text/plain": [
       "               group  side  tag    win  type  championId   champion    role\n",
       "0       play_in_elim  Blue  HKA   True   ban          79     Gragas     NaN\n",
       "1       play_in_elim  Blue  HKA   True   ban          18   Tristana     NaN\n",
       "2       play_in_elim  Blue  HKA   True   ban          41  Gangplank     NaN\n",
       "3       play_in_elim  Blue  HKA   True   ban         421    Rek'Sai     NaN\n",
       "4       play_in_elim  Blue  HKA   True   ban          60      Elise     NaN\n",
       "...              ...   ...  ...    ...   ...         ...        ...     ...\n",
       "1854  play_in_groups   Red   MG  False  pick          84      Akali     top\n",
       "1855  play_in_groups   Red   MG  False  pick          59  Jarvan IV  jungle\n",
       "1856  play_in_groups   Red   MG  False  pick           3      Galio     mid\n",
       "1857  play_in_groups   Red   MG  False  pick         498      Xayah     bot\n",
       "1858  play_in_groups   Red   MG  False  pick         111   Nautilus    supp\n",
       "\n",
       "[1859 rows x 8 columns]"
      ]
     },
     "execution_count": 18,
     "metadata": {},
     "output_type": "execute_result"
    }
   ],
   "source": [
    "import pandas as pd\n",
    "df = pd.DataFrame(pick_ban_data)\n",
    "df"
   ]
  },
  {
   "cell_type": "markdown",
   "metadata": {},
   "source": [
    "### Manipulating the dataset"
   ]
  },
  {
   "cell_type": "markdown",
   "metadata": {},
   "source": [
    "Calculate the banrate of champions"
   ]
  },
  {
   "cell_type": "code",
   "execution_count": 19,
   "metadata": {},
   "outputs": [
    {
     "data": {
      "text/plain": [
       "champion\n",
       "Pantheon     0.989247\n",
       "Qiyana       0.688172\n",
       "Syndra       0.559140\n",
       "Renekton     0.483871\n",
       "LeBlanc      0.397849\n",
       "Kayle        0.354839\n",
       "Akali        0.311828\n",
       "Xayah        0.311828\n",
       "Gangplank    0.311828\n",
       "Gragas       0.279570\n",
       "Name: championId, dtype: float64"
      ]
     },
     "execution_count": 19,
     "metadata": {},
     "output_type": "execute_result"
    }
   ],
   "source": [
    "banrate = (\n",
    "    # Selecting bans\n",
    "    df[df[\"type\"] == \"ban\"]\n",
    "        # We want champions\n",
    "        .groupby(\"champion\")\n",
    "        .count()\n",
    "        # Sorted by most banned champions\n",
    "        .sort_values(\"championId\", ascending=False)\n",
    "        [\"championId\"]\n",
    "        # Divided by number of games to get a percentage\n",
    "        /len(games)\n",
    ")\n",
    "\n",
    "banrate.head(10)"
   ]
  },
  {
   "cell_type": "markdown",
   "metadata": {},
   "source": [
    "Calculate the pickrate of champions"
   ]
  },
  {
   "cell_type": "code",
   "execution_count": 20,
   "metadata": {},
   "outputs": [
    {
     "data": {
      "text/plain": [
       "champion\n",
       "Kai'Sa       0.559140\n",
       "Xayah        0.505376\n",
       "Lee Sin      0.483871\n",
       "Nautilus     0.408602\n",
       "Rakan        0.387097\n",
       "Akali        0.365591\n",
       "Gragas       0.344086\n",
       "Gangplank    0.344086\n",
       "Thresh       0.311828\n",
       "Renekton     0.268817\n",
       "Name: championId, dtype: float64"
      ]
     },
     "execution_count": 20,
     "metadata": {},
     "output_type": "execute_result"
    }
   ],
   "source": [
    "pickrate = (\n",
    "    # Selecting picks\n",
    "    df[df[\"type\"] == \"pick\"]\n",
    "        # We want champions\n",
    "        .groupby(\"champion\")\n",
    "        .count()\n",
    "        # Sorted by most picked champions\n",
    "        .sort_values(\"championId\", ascending=False)\n",
    "        [\"championId\"]\n",
    "        # Divided by number of games to get a percentage\n",
    "        /len(games)\n",
    ")\n",
    "\n",
    "pickrate.head(10)"
   ]
  },
  {
   "cell_type": "markdown",
   "metadata": {},
   "source": [
    "Calculate the winrate"
   ]
  },
  {
   "cell_type": "code",
   "execution_count": 21,
   "metadata": {},
   "outputs": [
    {
     "data": {
      "text/plain": [
       "champion\n",
       "Malphite        1.000000\n",
       "Vayne           1.000000\n",
       "Draven          1.000000\n",
       "Poppy           1.000000\n",
       "Pantheon        1.000000\n",
       "Urgot           1.000000\n",
       "Fiddlesticks    1.000000\n",
       "Varus           1.000000\n",
       "Jax             1.000000\n",
       "Taliyah         0.857143\n",
       "Name: championId, dtype: float64"
      ]
     },
     "execution_count": 21,
     "metadata": {},
     "output_type": "execute_result"
    }
   ],
   "source": [
    "wins = (\n",
    "    # Selecting picks\n",
    "    df[((df[\"type\"] == \"pick\") & (df[\"win\"]))]\n",
    "        # We want champions\n",
    "        .groupby(\"champion\")\n",
    "        .count()\n",
    "        # Sorted by most picked champions\n",
    "        .sort_values(\"championId\", ascending=False)\n",
    "        [\"championId\"]\n",
    ")\n",
    "\n",
    "picks = (\n",
    "    # Selecting picks\n",
    "    df[df[\"type\"] == \"pick\"]\n",
    "        # We want champions\n",
    "        .groupby(\"champion\")\n",
    "        .count()\n",
    "        # Sorted by most picked champions\n",
    "        .sort_values(\"championId\", ascending=False)\n",
    "        [\"championId\"]\n",
    ")\n",
    "\n",
    "winrate = (wins/picks).fillna(0).sort_values(ascending=False)\n",
    "winrate.head(10)"
   ]
  },
  {
   "cell_type": "markdown",
   "metadata": {},
   "source": [
    "Calculate the presence"
   ]
  },
  {
   "cell_type": "code",
   "execution_count": 22,
   "metadata": {},
   "outputs": [
    {
     "data": {
      "text/plain": [
       "champion\n",
       "Aatrox     0.129032\n",
       "Akali      0.677419\n",
       "Alistar    0.161290\n",
       "Anivia     0.010753\n",
       "Ashe       0.075269\n",
       "             ...   \n",
       "Yasuo      0.236559\n",
       "Yuumi      0.376344\n",
       "Ziggs      0.010753\n",
       "Zilean     0.010753\n",
       "Zoe        0.053763\n",
       "Name: championId, Length: 96, dtype: float64"
      ]
     },
     "execution_count": 22,
     "metadata": {},
     "output_type": "execute_result"
    }
   ],
   "source": [
    "presence = pickrate.add(banrate, fill_value=0)\n",
    "presence"
   ]
  },
  {
   "cell_type": "markdown",
   "metadata": {},
   "source": [
    "Combine all of this and add the presence rate in a new dataframe"
   ]
  },
  {
   "cell_type": "code",
   "execution_count": 23,
   "metadata": {},
   "outputs": [
    {
     "data": {
      "text/html": [
       "<div>\n",
       "<style scoped>\n",
       "    .dataframe tbody tr th:only-of-type {\n",
       "        vertical-align: middle;\n",
       "    }\n",
       "\n",
       "    .dataframe tbody tr th {\n",
       "        vertical-align: top;\n",
       "    }\n",
       "\n",
       "    .dataframe thead th {\n",
       "        text-align: right;\n",
       "    }\n",
       "</style>\n",
       "<table border=\"1\" class=\"dataframe\">\n",
       "  <thead>\n",
       "    <tr style=\"text-align: right;\">\n",
       "      <th></th>\n",
       "      <th>banrate</th>\n",
       "      <th>pickrate</th>\n",
       "      <th>winrate</th>\n",
       "      <th>presence</th>\n",
       "    </tr>\n",
       "  </thead>\n",
       "  <tbody>\n",
       "    <tr>\n",
       "      <td>Pantheon</td>\n",
       "      <td>0.989247</td>\n",
       "      <td>0.010753</td>\n",
       "      <td>1.000000</td>\n",
       "      <td>1.000000</td>\n",
       "    </tr>\n",
       "    <tr>\n",
       "      <td>Qiyana</td>\n",
       "      <td>0.688172</td>\n",
       "      <td>0.193548</td>\n",
       "      <td>0.555556</td>\n",
       "      <td>0.881720</td>\n",
       "    </tr>\n",
       "    <tr>\n",
       "      <td>Syndra</td>\n",
       "      <td>0.559140</td>\n",
       "      <td>0.268817</td>\n",
       "      <td>0.440000</td>\n",
       "      <td>0.827957</td>\n",
       "    </tr>\n",
       "    <tr>\n",
       "      <td>Renekton</td>\n",
       "      <td>0.483871</td>\n",
       "      <td>0.268817</td>\n",
       "      <td>0.600000</td>\n",
       "      <td>0.752688</td>\n",
       "    </tr>\n",
       "    <tr>\n",
       "      <td>LeBlanc</td>\n",
       "      <td>0.397849</td>\n",
       "      <td>0.182796</td>\n",
       "      <td>0.529412</td>\n",
       "      <td>0.580645</td>\n",
       "    </tr>\n",
       "    <tr>\n",
       "      <td>...</td>\n",
       "      <td>...</td>\n",
       "      <td>...</td>\n",
       "      <td>...</td>\n",
       "      <td>...</td>\n",
       "    </tr>\n",
       "    <tr>\n",
       "      <td>Sona</td>\n",
       "      <td>0.000000</td>\n",
       "      <td>0.010753</td>\n",
       "      <td>0.000000</td>\n",
       "      <td>0.010753</td>\n",
       "    </tr>\n",
       "    <tr>\n",
       "      <td>Poppy</td>\n",
       "      <td>0.000000</td>\n",
       "      <td>0.010753</td>\n",
       "      <td>1.000000</td>\n",
       "      <td>0.010753</td>\n",
       "    </tr>\n",
       "    <tr>\n",
       "      <td>Lulu</td>\n",
       "      <td>0.000000</td>\n",
       "      <td>0.010753</td>\n",
       "      <td>0.000000</td>\n",
       "      <td>0.010753</td>\n",
       "    </tr>\n",
       "    <tr>\n",
       "      <td>Lux</td>\n",
       "      <td>0.000000</td>\n",
       "      <td>0.010753</td>\n",
       "      <td>0.000000</td>\n",
       "      <td>0.010753</td>\n",
       "    </tr>\n",
       "    <tr>\n",
       "      <td>Malphite</td>\n",
       "      <td>0.000000</td>\n",
       "      <td>0.010753</td>\n",
       "      <td>1.000000</td>\n",
       "      <td>0.010753</td>\n",
       "    </tr>\n",
       "  </tbody>\n",
       "</table>\n",
       "<p>96 rows × 4 columns</p>\n",
       "</div>"
      ],
      "text/plain": [
       "           banrate  pickrate   winrate  presence\n",
       "Pantheon  0.989247  0.010753  1.000000  1.000000\n",
       "Qiyana    0.688172  0.193548  0.555556  0.881720\n",
       "Syndra    0.559140  0.268817  0.440000  0.827957\n",
       "Renekton  0.483871  0.268817  0.600000  0.752688\n",
       "LeBlanc   0.397849  0.182796  0.529412  0.580645\n",
       "...            ...       ...       ...       ...\n",
       "Sona      0.000000  0.010753  0.000000  0.010753\n",
       "Poppy     0.000000  0.010753  1.000000  0.010753\n",
       "Lulu      0.000000  0.010753  0.000000  0.010753\n",
       "Lux       0.000000  0.010753  0.000000  0.010753\n",
       "Malphite  0.000000  0.010753  1.000000  0.010753\n",
       "\n",
       "[96 rows x 4 columns]"
      ]
     },
     "execution_count": 23,
     "metadata": {},
     "output_type": "execute_result"
    }
   ],
   "source": [
    "df2 = pd.DataFrame([banrate,pickrate,winrate, presence]).T.fillna(0)\n",
    "df2.columns = [\"banrate\", \"pickrate\", \"winrate\", \"presence\"]\n",
    "\n",
    "df2"
   ]
  },
  {
   "cell_type": "markdown",
   "metadata": {},
   "source": [
    "Sort the dataframe how you want"
   ]
  },
  {
   "cell_type": "code",
   "execution_count": 24,
   "metadata": {},
   "outputs": [
    {
     "data": {
      "text/html": [
       "<div>\n",
       "<style scoped>\n",
       "    .dataframe tbody tr th:only-of-type {\n",
       "        vertical-align: middle;\n",
       "    }\n",
       "\n",
       "    .dataframe tbody tr th {\n",
       "        vertical-align: top;\n",
       "    }\n",
       "\n",
       "    .dataframe thead th {\n",
       "        text-align: right;\n",
       "    }\n",
       "</style>\n",
       "<table border=\"1\" class=\"dataframe\">\n",
       "  <thead>\n",
       "    <tr style=\"text-align: right;\">\n",
       "      <th></th>\n",
       "      <th>banrate</th>\n",
       "      <th>pickrate</th>\n",
       "      <th>winrate</th>\n",
       "      <th>presence</th>\n",
       "    </tr>\n",
       "  </thead>\n",
       "  <tbody>\n",
       "    <tr>\n",
       "      <td>Pantheon</td>\n",
       "      <td>0.989247</td>\n",
       "      <td>0.010753</td>\n",
       "      <td>1.000000</td>\n",
       "      <td>1.000000</td>\n",
       "    </tr>\n",
       "    <tr>\n",
       "      <td>Qiyana</td>\n",
       "      <td>0.688172</td>\n",
       "      <td>0.193548</td>\n",
       "      <td>0.555556</td>\n",
       "      <td>0.881720</td>\n",
       "    </tr>\n",
       "    <tr>\n",
       "      <td>Syndra</td>\n",
       "      <td>0.559140</td>\n",
       "      <td>0.268817</td>\n",
       "      <td>0.440000</td>\n",
       "      <td>0.827957</td>\n",
       "    </tr>\n",
       "    <tr>\n",
       "      <td>Xayah</td>\n",
       "      <td>0.311828</td>\n",
       "      <td>0.505376</td>\n",
       "      <td>0.574468</td>\n",
       "      <td>0.817204</td>\n",
       "    </tr>\n",
       "    <tr>\n",
       "      <td>Renekton</td>\n",
       "      <td>0.483871</td>\n",
       "      <td>0.268817</td>\n",
       "      <td>0.600000</td>\n",
       "      <td>0.752688</td>\n",
       "    </tr>\n",
       "    <tr>\n",
       "      <td>...</td>\n",
       "      <td>...</td>\n",
       "      <td>...</td>\n",
       "      <td>...</td>\n",
       "      <td>...</td>\n",
       "    </tr>\n",
       "    <tr>\n",
       "      <td>Ziggs</td>\n",
       "      <td>0.000000</td>\n",
       "      <td>0.010753</td>\n",
       "      <td>0.000000</td>\n",
       "      <td>0.010753</td>\n",
       "    </tr>\n",
       "    <tr>\n",
       "      <td>Anivia</td>\n",
       "      <td>0.000000</td>\n",
       "      <td>0.010753</td>\n",
       "      <td>0.000000</td>\n",
       "      <td>0.010753</td>\n",
       "    </tr>\n",
       "    <tr>\n",
       "      <td>Xin Zhao</td>\n",
       "      <td>0.000000</td>\n",
       "      <td>0.010753</td>\n",
       "      <td>0.000000</td>\n",
       "      <td>0.010753</td>\n",
       "    </tr>\n",
       "    <tr>\n",
       "      <td>Kalista</td>\n",
       "      <td>0.010753</td>\n",
       "      <td>0.000000</td>\n",
       "      <td>0.000000</td>\n",
       "      <td>0.010753</td>\n",
       "    </tr>\n",
       "    <tr>\n",
       "      <td>Malphite</td>\n",
       "      <td>0.000000</td>\n",
       "      <td>0.010753</td>\n",
       "      <td>1.000000</td>\n",
       "      <td>0.010753</td>\n",
       "    </tr>\n",
       "  </tbody>\n",
       "</table>\n",
       "<p>96 rows × 4 columns</p>\n",
       "</div>"
      ],
      "text/plain": [
       "           banrate  pickrate   winrate  presence\n",
       "Pantheon  0.989247  0.010753  1.000000  1.000000\n",
       "Qiyana    0.688172  0.193548  0.555556  0.881720\n",
       "Syndra    0.559140  0.268817  0.440000  0.827957\n",
       "Xayah     0.311828  0.505376  0.574468  0.817204\n",
       "Renekton  0.483871  0.268817  0.600000  0.752688\n",
       "...            ...       ...       ...       ...\n",
       "Ziggs     0.000000  0.010753  0.000000  0.010753\n",
       "Anivia    0.000000  0.010753  0.000000  0.010753\n",
       "Xin Zhao  0.000000  0.010753  0.000000  0.010753\n",
       "Kalista   0.010753  0.000000  0.000000  0.010753\n",
       "Malphite  0.000000  0.010753  1.000000  0.010753\n",
       "\n",
       "[96 rows x 4 columns]"
      ]
     },
     "execution_count": 24,
     "metadata": {},
     "output_type": "execute_result"
    }
   ],
   "source": [
    "df2.sort_values(\"presence\",ascending=False)"
   ]
  },
  {
   "cell_type": "markdown",
   "metadata": {},
   "source": [
    "Having graphs is good too, so we'll create a bar chart with wins, losses and bans. We'll create another dataframe for this purpose."
   ]
  },
  {
   "cell_type": "code",
   "execution_count": 25,
   "metadata": {},
   "outputs": [
    {
     "data": {
      "text/html": [
       "<div>\n",
       "<style scoped>\n",
       "    .dataframe tbody tr th:only-of-type {\n",
       "        vertical-align: middle;\n",
       "    }\n",
       "\n",
       "    .dataframe tbody tr th {\n",
       "        vertical-align: top;\n",
       "    }\n",
       "\n",
       "    .dataframe thead th {\n",
       "        text-align: right;\n",
       "    }\n",
       "</style>\n",
       "<table border=\"1\" class=\"dataframe\">\n",
       "  <thead>\n",
       "    <tr style=\"text-align: right;\">\n",
       "      <th></th>\n",
       "      <th>picks</th>\n",
       "      <th>wins</th>\n",
       "      <th>losses</th>\n",
       "      <th>bans</th>\n",
       "      <th>presence</th>\n",
       "    </tr>\n",
       "  </thead>\n",
       "  <tbody>\n",
       "    <tr>\n",
       "      <td>Kai'Sa</td>\n",
       "      <td>52.0</td>\n",
       "      <td>29.0</td>\n",
       "      <td>23.0</td>\n",
       "      <td>11.0</td>\n",
       "      <td>63.0</td>\n",
       "    </tr>\n",
       "    <tr>\n",
       "      <td>Xayah</td>\n",
       "      <td>47.0</td>\n",
       "      <td>27.0</td>\n",
       "      <td>20.0</td>\n",
       "      <td>29.0</td>\n",
       "      <td>76.0</td>\n",
       "    </tr>\n",
       "    <tr>\n",
       "      <td>Lee Sin</td>\n",
       "      <td>45.0</td>\n",
       "      <td>23.0</td>\n",
       "      <td>22.0</td>\n",
       "      <td>11.0</td>\n",
       "      <td>56.0</td>\n",
       "    </tr>\n",
       "    <tr>\n",
       "      <td>Nautilus</td>\n",
       "      <td>38.0</td>\n",
       "      <td>18.0</td>\n",
       "      <td>20.0</td>\n",
       "      <td>19.0</td>\n",
       "      <td>57.0</td>\n",
       "    </tr>\n",
       "    <tr>\n",
       "      <td>Rakan</td>\n",
       "      <td>36.0</td>\n",
       "      <td>19.0</td>\n",
       "      <td>17.0</td>\n",
       "      <td>22.0</td>\n",
       "      <td>58.0</td>\n",
       "    </tr>\n",
       "    <tr>\n",
       "      <td>...</td>\n",
       "      <td>...</td>\n",
       "      <td>...</td>\n",
       "      <td>...</td>\n",
       "      <td>...</td>\n",
       "      <td>...</td>\n",
       "    </tr>\n",
       "    <tr>\n",
       "      <td>Pantheon</td>\n",
       "      <td>1.0</td>\n",
       "      <td>1.0</td>\n",
       "      <td>0.0</td>\n",
       "      <td>92.0</td>\n",
       "      <td>93.0</td>\n",
       "    </tr>\n",
       "    <tr>\n",
       "      <td>Lulu</td>\n",
       "      <td>1.0</td>\n",
       "      <td>0.0</td>\n",
       "      <td>0.0</td>\n",
       "      <td>0.0</td>\n",
       "      <td>0.0</td>\n",
       "    </tr>\n",
       "    <tr>\n",
       "      <td>Lux</td>\n",
       "      <td>1.0</td>\n",
       "      <td>0.0</td>\n",
       "      <td>0.0</td>\n",
       "      <td>0.0</td>\n",
       "      <td>0.0</td>\n",
       "    </tr>\n",
       "    <tr>\n",
       "      <td>Malphite</td>\n",
       "      <td>1.0</td>\n",
       "      <td>1.0</td>\n",
       "      <td>0.0</td>\n",
       "      <td>0.0</td>\n",
       "      <td>0.0</td>\n",
       "    </tr>\n",
       "    <tr>\n",
       "      <td>Kalista</td>\n",
       "      <td>0.0</td>\n",
       "      <td>0.0</td>\n",
       "      <td>0.0</td>\n",
       "      <td>1.0</td>\n",
       "      <td>0.0</td>\n",
       "    </tr>\n",
       "  </tbody>\n",
       "</table>\n",
       "<p>96 rows × 5 columns</p>\n",
       "</div>"
      ],
      "text/plain": [
       "          picks  wins  losses  bans  presence\n",
       "Kai'Sa     52.0  29.0    23.0  11.0      63.0\n",
       "Xayah      47.0  27.0    20.0  29.0      76.0\n",
       "Lee Sin    45.0  23.0    22.0  11.0      56.0\n",
       "Nautilus   38.0  18.0    20.0  19.0      57.0\n",
       "Rakan      36.0  19.0    17.0  22.0      58.0\n",
       "...         ...   ...     ...   ...       ...\n",
       "Pantheon    1.0   1.0     0.0  92.0      93.0\n",
       "Lulu        1.0   0.0     0.0   0.0       0.0\n",
       "Lux         1.0   0.0     0.0   0.0       0.0\n",
       "Malphite    1.0   1.0     0.0   0.0       0.0\n",
       "Kalista     0.0   0.0     0.0   1.0       0.0\n",
       "\n",
       "[96 rows x 5 columns]"
      ]
     },
     "execution_count": 25,
     "metadata": {},
     "output_type": "execute_result"
    }
   ],
   "source": [
    "bans = (\n",
    "    # Selecting bans\n",
    "    df[df[\"type\"] == \"ban\"]\n",
    "        # We want champions\n",
    "        .groupby(\"champion\")\n",
    "        .count()\n",
    "        # Sorted by most banned champions\n",
    "        .sort_values(\"championId\", ascending=False)\n",
    "        [\"championId\"]\n",
    ")\n",
    "\n",
    "wins = (\n",
    "    # Selecting picks\n",
    "    df[((df[\"type\"] == \"pick\") & (df[\"win\"]))]\n",
    "        # We want champions\n",
    "        .groupby(\"champion\")\n",
    "        .count()\n",
    "        # Sorted by most picked champions\n",
    "        .sort_values(\"championId\", ascending=False)\n",
    "        [\"championId\"]\n",
    ")\n",
    "\n",
    "picks = (\n",
    "    # Selecting picks\n",
    "    df[df[\"type\"] == \"pick\"]\n",
    "        # We want champions\n",
    "        .groupby(\"champion\")\n",
    "        .count()\n",
    "        # Sorted by most picked champions\n",
    "        .sort_values(\"championId\", ascending=False)\n",
    "        [\"championId\"]\n",
    ")\n",
    "\n",
    "losses = picks - wins\n",
    "\n",
    "presence = picks+bans\n",
    "\n",
    "df3 = pd.DataFrame([picks, wins, losses, bans, presence]).T.fillna(0)\n",
    "df3.columns = [\"picks\", \"wins\", \"losses\", \"bans\", \"presence\"]\n",
    "df3"
   ]
  },
  {
   "cell_type": "markdown",
   "metadata": {},
   "source": [
    "### Visualizing the data"
   ]
  },
  {
   "cell_type": "markdown",
   "metadata": {},
   "source": [
    "Here is a stacked bar graph to represent the 15 most present champions that have been picked or ban."
   ]
  },
  {
   "cell_type": "code",
   "execution_count": 33,
   "metadata": {},
   "outputs": [
    {
     "data": {
      "text/plain": [
       "<matplotlib.axes._subplots.AxesSubplot at 0x7fa8eff49160>"
      ]
     },
     "execution_count": 33,
     "metadata": {},
     "output_type": "execute_result"
    },
    {
     "data": {
      "image/png": "[encoded data removed]",
      "text/plain": [
       "<Figure size 432x288 with 1 Axes>"
      ]
     },
     "metadata": {
      "needs_background": "light"
     },
     "output_type": "display_data"
    }
   ],
   "source": [
    "# Sorting the dataframe, first items are the most present\n",
    "df3.sort_values(\"presence\", ascending=False, inplace=True)\n",
    "\n",
    "# Take only the interesting columns for the graph\n",
    "sorted_champions =  df3[[\"wins\", \"losses\", \"bans\"]]\n",
    "\n",
    "# Take the top 15\n",
    "top_sorted_champions = sorted_champions[:15]\n",
    "\n",
    "#Plot the result as stacked bar, change the colors at will, rot=40 being the label rotaion at the bottom\n",
    "top_sorted_champions.plot(kind=\"bar\", stacked=True, color=[\"green\",\"red\",\"black\"], rot=40)"
   ]
  },
  {
   "cell_type": "markdown",
   "metadata": {},
   "source": [
    "The graph is nice and all, but we always can do better, and a little customization like adding champion icon and other details is possible. Here we go."
   ]
  },
  {
   "cell_type": "code",
   "execution_count": 27,
   "metadata": {},
   "outputs": [],
   "source": [
    "import matplotlib.image as mpimg\n",
    "from matplotlib.offsetbox import TextArea, DrawingArea, OffsetImage, AnnotationBbox"
   ]
  },
  {
   "cell_type": "code",
   "execution_count": 28,
   "metadata": {},
   "outputs": [
    {
     "data": {
      "text/plain": [
       "<matplotlib.axes._subplots.AxesSubplot at 0x7fa8f6eae748>"
      ]
     },
     "execution_count": 28,
     "metadata": {},
     "output_type": "execute_result"
    },
    {
     "data": {
      "image/png": "[encoded data removed]",
      "text/plain": [
       "<Figure size 864x864 with 1 Axes>"
      ]
     },
     "metadata": {
      "needs_background": "light"
     },
     "output_type": "display_data"
    }
   ],
   "source": [
    "top_number = 15\n",
    "\n",
    "# Sort champions by presence and select the top\n",
    "df_champions_presence = df3.sort_values(\"presence\", ascending=False)[:top_number]\n",
    "\n",
    "# Define the graph like previously, but make it larger\n",
    "plt = df_champions_presence[[\"wins\", \"losses\", \"bans\"]].plot(kind=\"bar\", stacked=True, color=[\"green\",\"red\",\"black\"], rot=40, figsize=(12,12), ylim=(0,100))\n",
    "\n",
    "# Add a line to represent the maximum number of time a champion could have been picked or banned\n",
    "plt.axhline(y=len(all_games_data), color='r', linestyle='-')\n",
    "plt.text(5, 94, \"Number of games\", fontsize=14)\n",
    "\n",
    "# For each champion, we add its icon on top of the bar\n",
    "position = 0\n",
    "for champion,stats in df_champions_presence.iterrows():\n",
    "    \n",
    "    # Get the image url and fit it in a \"box\"\n",
    "    image = mpimg.imread(dd.getChampion(champion).image)\n",
    "    imagebox = OffsetImage(image, zoom=0.35)\n",
    "    \n",
    "    # Position the box where it should \n",
    "    ab = AnnotationBbox(imagebox, (position, stats[\"presence\"] + 4), frameon=False)\n",
    "    \n",
    "    # Add the box to the graph\n",
    "    plt.add_artist(ab)\n",
    "\n",
    "    position += 1\n",
    "\n",
    "\n",
    "plt"
   ]
  },
  {
   "cell_type": "markdown",
   "metadata": {},
   "source": [
    "For the fun, make another graph with the champions sorted by picks and remove the bans."
   ]
  },
  {
   "cell_type": "code",
   "execution_count": 29,
   "metadata": {},
   "outputs": [
    {
     "data": {
      "text/plain": [
       "<matplotlib.axes._subplots.AxesSubplot at 0x7fa8f6d634e0>"
      ]
     },
     "execution_count": 29,
     "metadata": {},
     "output_type": "execute_result"
    },
    {
     "data": {
      "image/png": "[encoded data removed]",
      "text/plain": [
       "<Figure size 864x864 with 1 Axes>"
      ]
     },
     "metadata": {
      "needs_background": "light"
     },
     "output_type": "display_data"
    }
   ],
   "source": [
    "# Sort champions by pick and select the top\n",
    "df_champions_pick = df3.sort_values(\"picks\", ascending=False)[:top_number]\n",
    "\n",
    "# Define the graph\n",
    "plt = df_champions_pick[[\"wins\", \"losses\"]].plot(kind=\"bar\", stacked=True, color=[\"green\",\"red\"], rot=40, figsize=(12,12), ylim=(0,100))\n",
    "\n",
    "# Add the line for the number of games\n",
    "plt.axhline(y=len(all_games_data), color='r', linestyle='-')\n",
    "plt.text(5, 94, \"Number of games\", fontsize=14)\n",
    "\n",
    "# Add the icon for each champion\n",
    "position = 0\n",
    "for champion,stats in df_champions_pick.iterrows():\n",
    "    \n",
    "    # Get the image url and fit it in a \"box\"\n",
    "    image = mpimg.imread(dd.getChampion(champion).image)\n",
    "    imagebox = OffsetImage(image, zoom=0.35)\n",
    "    \n",
    "    # Position the box where it should \n",
    "    ab = AnnotationBbox(imagebox, (position, stats[\"picks\"] + 4), frameon=False)\n",
    "    \n",
    "    # Add the box to the graph\n",
    "    plt.add_artist(ab)\n",
    "    \n",
    "    \n",
    "    v_position = position/top_number\n",
    "    \n",
    "    #Another usefull detail, add a line to represent half the picks, to show if the champion has a high winrate or not\n",
    "    plt.axhline(y=stats[\"picks\"]/2, color='black', linestyle='-', xmin=v_position+0.01, xmax=v_position+0.06)\n",
    "\n",
    "    position += 1\n",
    "\n",
    "plt"
   ]
  },
  {
   "cell_type": "markdown",
   "metadata": {},
   "source": [
    "That's all for today, now you have the data, you know how to extract information from the data, and how to present it. It's your turn to practice and tell me who is the best KDA player or the best farmer."
   ]
  },
  {
   "cell_type": "code",
   "execution_count": null,
   "metadata": {},
   "outputs": [],
   "source": []
  }
 ],
 "metadata": {
  "kernelspec": {
   "display_name": "Python 3",
   "language": "python",
   "name": "python3"
  },
  "language_info": {
   "codemirror_mode": {
    "name": "ipython",
    "version": 3
   },
   "file_extension": ".py",
   "mimetype": "text/x-python",
   "name": "python",
   "nbconvert_exporter": "python",
   "pygments_lexer": "ipython3",
   "version": "3.6.8"
  }
 },
 "nbformat": 4,
 "nbformat_minor": 2
}
